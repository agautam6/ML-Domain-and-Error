{
 "cells": [
  {
   "cell_type": "code",
   "execution_count": 1,
   "metadata": {},
   "outputs": [],
   "source": [
    "from sklearn.datasets import make_friedman1\n",
    "import numpy as np\n",
    "import statistics\n",
    "import matplotlib.pyplot as plt\n",
    "\n",
    "from sklearn.model_selection import train_test_split\n",
    "from sklearn.gaussian_process import GaussianProcessRegressor\n",
    "from sklearn.ensemble import RandomForestRegressor\n",
    "from sklearn.gaussian_process.kernels import (RBF, Matern, RationalQuadratic,\n",
    "                                              ExpSineSquared, DotProduct,\n",
    "                                              ConstantKernel, WhiteKernel)\n",
    "from sklearn.linear_model import LinearRegression\n",
    "from sklearn.metrics import r2_score\n",
    "from sklearn.preprocessing import StandardScaler\n",
    "\n",
    "from tabulate import tabulate\n",
    "\n",
    "from package import gpr\n",
    "from package import io\n",
    "from package import rf\n",
    "from package import testhelper as th\n",
    "\n",
    "from sklearn.gaussian_process.kernels import (Matern, ConstantKernel, WhiteKernel, RBF)"
   ]
  },
  {
   "cell_type": "code",
   "execution_count": 2,
   "metadata": {},
   "outputs": [],
   "source": [
    "# define training data size\n",
    "training_num = 1000\n",
    "\n",
    "# x-values: all uniformly distributed between 0 and 1\n",
    "x0_train=np.random.rand(training_num)\n",
    "x1_train=np.random.rand(training_num)\n",
    "x2_train=np.random.rand(training_num)\n",
    "x3_train=np.random.rand(training_num)\n",
    "x4_train=np.random.rand(training_num)\n",
    "X_train = [[x0_train[i], x1_train[i], x2_train[i], x3_train[i], x4_train[i]] for i in range(0,training_num)]\n",
    "\n",
    "# y-value with friedman function\n",
    "y_train = 10*np.sin(np.pi*x0_train*x1_train) + 20*(x2_train - 0.5)**2 + 10*x3_train + 5*x4_train\n",
    "#y_train = y_train.tolist()"
   ]
  },
  {
   "cell_type": "code",
   "execution_count": 3,
   "metadata": {},
   "outputs": [],
   "source": [
    "# Train GPR\n",
    "GPR = gpr.GPR()\n",
    "GPR.train_synth(X_train, y_train, std=4.9, kernelchoice=1, optimizer_restarts=30)\n",
    "\n",
    "# Train RF\n",
    "RF = rf.RF()\n",
    "RF.train_synth(X_train, y_train, std=4.9)"
   ]
  },
  {
   "cell_type": "code",
   "execution_count": 4,
   "metadata": {},
   "outputs": [],
   "source": [
    "# define test data size\n",
    "test_num = 1000\n",
    "\n",
    "# x-values: add or remove the *0.5 for each one\n",
    "x0_test=np.random.rand(test_num)\n",
    "x1_test=np.random.rand(test_num)\n",
    "x2_test=np.random.rand(test_num)\n",
    "x3_test=np.random.rand(test_num)\n",
    "x4_test=np.random.rand(test_num)*5\n",
    "X_test = [[x0_test[i], x1_test[i], x2_test[i], x3_test[i], x4_test[i]] for i in range(0,test_num)]\n",
    "\n",
    "# y-value with friedman function\n",
    "y_test = 10*np.sin(np.pi*x0_test*x1_test) + 20*(x2_test - 0.5)**2 + 10*x3_test + 5*x4_test"
   ]
  },
  {
   "cell_type": "code",
   "execution_count": 5,
   "metadata": {},
   "outputs": [],
   "source": [
    "def test2(test_data):\n",
    "    # Define GPR and RF errors\n",
    "    GPR_pred, GPR_errors = GPR.predict(test_data, True)\n",
    "    RF_pred, RF_errors = RF.predict(test_data, True)\n",
    "    RF_errors = 0.76 * RF_errors\n",
    "    GPR_res = abs(GPR_pred-y_test)/4.9\n",
    "    RF_res = abs(RF_pred-y_test)/4.9\n",
    "    predictions = [th.predictdomain(GPR_errors[i], RF_errors[i]) for i in range(0, len(test_data))]\n",
    "    results = [(predictions[i], GPR_errors[i], GPR_res[i], RF_errors[i], RF_res[i], x0_test[i], x1_test[i], x2_test[i], x3_test[i], x4_test[i]) for i in range(0, len(test_data))]\n",
    "    results_print = [(predictions[i], GPR_errors[i], RF_errors[i], x3_test[i]) for i in range(0, len(test_data))]\n",
    "    # print(tabulate(results_print, headers=[\"In domain?\", \"GPR predicted error\", \"0.76*RF predicted error\", \"x3_test value\"]))\n",
    "    return results"
   ]
  },
  {
   "cell_type": "code",
   "execution_count": 6,
   "metadata": {},
   "outputs": [
    {
     "name": "stderr",
     "output_type": "stream",
     "text": [
      "/Users/glennpalmer/.pyenv/versions/3.7.4/lib/python3.7/site-packages/sklearn/gaussian_process/_gpr.py:362: UserWarning: Predicted variances smaller than 0. Setting those variances to 0.\n",
      "  warnings.warn(\"Predicted variances smaller than 0. \"\n"
     ]
    }
   ],
   "source": [
    "results = test2(X_test)"
   ]
  },
  {
   "cell_type": "markdown",
   "metadata": {},
   "source": [
    "# Letting x_k run from 0 to 5:"
   ]
  },
  {
   "cell_type": "code",
   "execution_count": 7,
   "metadata": {},
   "outputs": [],
   "source": [
    "k = 4\n",
    "\n",
    "in_domain = []\n",
    "out_domain = []\n",
    "for i in range(0,test_num):\n",
    "    if results[i][0]==0:\n",
    "        out_domain.append(results[i][5+k])\n",
    "    else:\n",
    "        in_domain.append(results[i][5+k])"
   ]
  },
  {
   "cell_type": "code",
   "execution_count": 8,
   "metadata": {},
   "outputs": [
    {
     "data": {
      "image/png": "[encoded data removed]",
      "text/plain": [
       "<Figure size 432x288 with 1 Axes>"
      ]
     },
     "metadata": {
      "needs_background": "light"
     },
     "output_type": "display_data"
    }
   ],
   "source": [
    "plt.xlabel(\"x\" + str(k) + \" value\")\n",
    "plt.ylabel(\"Count\")\n",
    "plt.title(\"Counts of x\" + str(k) + \" values in domain\")\n",
    "plt.hist(in_domain);"
   ]
  },
  {
   "cell_type": "code",
   "execution_count": 9,
   "metadata": {},
   "outputs": [
    {
     "data": {
      "image/png": "[encoded data removed]",
      "text/plain": [
       "<Figure size 432x288 with 1 Axes>"
      ]
     },
     "metadata": {
      "needs_background": "light"
     },
     "output_type": "display_data"
    }
   ],
   "source": [
    "plt.xlabel(\"x\" + str(k) + \" value\")\n",
    "plt.ylabel(\"Count\")\n",
    "plt.title(\"Counts of x\" + str(k) + \" values out of domain\")\n",
    "plt.hist(out_domain);"
   ]
  },
  {
   "cell_type": "code",
   "execution_count": 10,
   "metadata": {},
   "outputs": [],
   "source": [
    "bins = np.linspace(0, 5, 50, endpoint=False)\n",
    "digitized_in = np.digitize(in_domain, bins)\n",
    "digitized_out = np.digitize(out_domain, bins)"
   ]
  },
  {
   "cell_type": "code",
   "execution_count": 11,
   "metadata": {},
   "outputs": [],
   "source": [
    "digitized_in = digitized_in.tolist()\n",
    "digitized_out = digitized_out.tolist()\n",
    "\n",
    "frac = []\n",
    "for i in range(1,51):\n",
    "    frac_in = (digitized_in.count(i)*1.0/(digitized_in.count(i)+digitized_out.count(i)))\n",
    "    frac.append(frac_in)"
   ]
  },
  {
   "cell_type": "code",
   "execution_count": 12,
   "metadata": {},
   "outputs": [
    {
     "data": {
      "image/png": "[encoded data removed]",
      "text/plain": [
       "<Figure size 432x288 with 1 Axes>"
      ]
     },
     "metadata": {
      "needs_background": "light"
     },
     "output_type": "display_data"
    }
   ],
   "source": [
    "x = np.linspace(0.1,5,50)\n",
    "y = frac\n",
    "\n",
    "plt.xlabel(\"x\" + str(k) + \" value\")\n",
    "plt.ylabel(\"Fraction in domain\")\n",
    "plt.title(\"Fraction in domain by value of x\" + str(k))\n",
    "\n",
    "plt.scatter(x,y);\n",
    "plt.plot(x,y);"
   ]
  },
  {
   "cell_type": "code",
   "execution_count": 17,
   "metadata": {},
   "outputs": [],
   "source": [
    "#GPR.printgprinfo(X_test,y_test)"
   ]
  },
  {
   "cell_type": "code",
   "execution_count": 14,
   "metadata": {},
   "outputs": [],
   "source": [
    "in_domain_rfres_over_predicted = []\n",
    "out_domain_rfres_over_predicted = []\n",
    "for i in range(0,len(results)):\n",
    "    if results[i][0]==0:\n",
    "        out_domain_rfres_over_predicted.append(results[i][4]/results[i][3])\n",
    "    else:\n",
    "        in_domain_rfres_over_predicted.append(results[i][4]/results[i][3])"
   ]
  },
  {
   "cell_type": "code",
   "execution_count": 15,
   "metadata": {},
   "outputs": [
    {
     "data": {
      "image/png": "[encoded data removed]",
      "text/plain": [
       "<Figure size 432x288 with 1 Axes>"
      ]
     },
     "metadata": {
      "needs_background": "light"
     },
     "output_type": "display_data"
    }
   ],
   "source": [
    "plt.xlabel(\"RF absolute residual / RF predicted error\")\n",
    "plt.ylabel(\"Count\")\n",
    "plt.title(\"Counts of binned RF residual/predicted error for points in domain (X\" + str(k) + \" varying)\")\n",
    "plt.hist(in_domain_rfres_over_predicted);"
   ]
  },
  {
   "cell_type": "code",
   "execution_count": 16,
   "metadata": {},
   "outputs": [
    {
     "data": {
      "image/png": "[encoded data removed]",
      "text/plain": [
       "<Figure size 432x288 with 1 Axes>"
      ]
     },
     "metadata": {
      "needs_background": "light"
     },
     "output_type": "display_data"
    }
   ],
   "source": [
    "plt.xlabel(\"RF absolute residual / RF predicted error\")\n",
    "plt.ylabel(\"Count\")\n",
    "plt.title(\"Counts of binned RF residual/predicted error for points out of domain (X\" + str(k) + \" varying)\")\n",
    "plt.hist(out_domain_rfres_over_predicted);"
   ]
  },
  {
   "cell_type": "code",
   "execution_count": null,
   "metadata": {},
   "outputs": [],
   "source": []
  }
 ],
 "metadata": {
  "kernelspec": {
   "display_name": "Python 3",
   "language": "python",
   "name": "python3"
  },
  "language_info": {
   "codemirror_mode": {
    "name": "ipython",
    "version": 3
   },
   "file_extension": ".py",
   "mimetype": "text/x-python",
   "name": "python",
   "nbconvert_exporter": "python",
   "pygments_lexer": "ipython3",
   "version": "3.7.4"
  }
 },
 "nbformat": 4,
 "nbformat_minor": 2
}
