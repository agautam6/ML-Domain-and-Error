{
 "cells": [
  {
   "cell_type": "code",
   "execution_count": 1,
   "metadata": {},
   "outputs": [],
   "source": [
    "from sklearn.datasets import make_friedman1\n",
    "import numpy as np\n",
    "import statistics\n",
    "import matplotlib.pyplot as plt\n",
    "\n",
    "from sklearn.model_selection import train_test_split\n",
    "from sklearn.gaussian_process import GaussianProcessRegressor\n",
    "from sklearn.ensemble import RandomForestRegressor\n",
    "from sklearn.gaussian_process.kernels import (RBF, Matern, RationalQuadratic,\n",
    "                                              ExpSineSquared, DotProduct,\n",
    "                                              ConstantKernel, WhiteKernel)\n",
    "from sklearn.linear_model import LinearRegression\n",
    "from sklearn.metrics import r2_score\n",
    "from sklearn.preprocessing import StandardScaler\n",
    "\n",
    "from tabulate import tabulate\n",
    "\n",
    "from package import gpr\n",
    "from package import io\n",
    "from package import rf\n",
    "from package import testhelper as th"
   ]
  },
  {
   "cell_type": "code",
   "execution_count": 2,
   "metadata": {},
   "outputs": [],
   "source": [
    "# define training data size\n",
    "training_num = 2000\n",
    "\n",
    "# x-values: all uniformly distributed between 0 and 0.5\n",
    "x0_train=np.random.rand(training_num)*0.5\n",
    "x1_train=np.random.rand(training_num)*0.5\n",
    "x2_train=np.random.rand(training_num)*0.5\n",
    "x3_train=np.random.rand(training_num)*0.5\n",
    "x4_train=np.random.rand(training_num)*0.5\n",
    "X_train = [[x0_train[i], x1_train[i], x2_train[i], x3_train[i], x4_train[i]] for i in range(0,training_num)]\n",
    "\n",
    "# y-value with friedman function\n",
    "y_train = 10*np.sin(np.pi*x0_train*x1_train) + 20*(x2_train - 0.5)**2 + 10*x3_train + 5*x4_train\n",
    "y_train = y_train.tolist()"
   ]
  },
  {
   "cell_type": "code",
   "execution_count": 3,
   "metadata": {},
   "outputs": [
    {
     "name": "stderr",
     "output_type": "stream",
     "text": [
      "/Users/glennpalmer/.pyenv/versions/3.7.4/lib/python3.7/site-packages/sklearn/gaussian_process/_gpr.py:494: ConvergenceWarning: lbfgs failed to converge (status=2):\n",
      "ABNORMAL_TERMINATION_IN_LNSRCH.\n",
      "\n",
      "Increase the number of iterations (max_iter) or scale the data as shown in:\n",
      "    https://scikit-learn.org/stable/modules/preprocessing.html\n",
      "  _check_optimize_result(\"lbfgs\", opt_res)\n"
     ]
    }
   ],
   "source": [
    "# Train GPR\n",
    "GPR = gpr.GPR()\n",
    "GPR.train_synth(X_train, y_train, std=2.756)\n",
    "\n",
    "# Train RF\n",
    "RF = rf.RF()\n",
    "RF.train_synth(X_train, y_train, std=2.756)"
   ]
  },
  {
   "cell_type": "code",
   "execution_count": 23,
   "metadata": {},
   "outputs": [],
   "source": [
    "# define test data size\n",
    "test_num = 1000\n",
    "\n",
    "# x-values: add or remove the *0.5 for each one\n",
    "x0_test=np.random.rand(test_num)*0.5\n",
    "x1_test=np.random.rand(test_num)*0.5\n",
    "x2_test=np.random.rand(test_num)*0.5\n",
    "x3_test=np.random.rand(test_num)*5\n",
    "x4_test=np.random.rand(test_num)*0.5\n",
    "X_test = [[x0_test[i], x1_test[i], x2_test[i], x3_test[i], x4_test[i]] for i in range(0,test_num)]\n",
    "\n",
    "# y-value with friedman function\n",
    "y_test = 10*np.sin(np.pi*x0_test*x1_test) + 20*(x2_test - 0.5)**2 + 10*x3_test + 5*x4_test"
   ]
  },
  {
   "cell_type": "code",
   "execution_count": 24,
   "metadata": {},
   "outputs": [],
   "source": [
    "def test2(test_data):\n",
    "    # Define GPR and RF errors\n",
    "    GPR_pred, GPR_errors = GPR.predict(test_data, True)\n",
    "    RF_pred, RF_errors = RF.predict(test_data, True)\n",
    "    RF_errors = 0.33 * RF_errors\n",
    "    GPR_res = abs(GPR_pred-y_test)/2.756\n",
    "    RF_res = abs(RF_pred-y_test)/2.756\n",
    "    predictions = [th.predictdomain(GPR_errors[i], RF_errors[i]) for i in range(0, len(test_data))]\n",
    "    results = [(predictions[i], GPR_errors[i], GPR_res[i], RF_errors[i], RF_res[i], x0_test[i], x1_test[i], x2_test[i], x3_test[i], x4_test[i]) for i in range(0, len(test_data))]\n",
    "    results_print = [(predictions[i], GPR_errors[i], RF_errors[i], x2_test[i]) for i in range(0, len(test_data))]\n",
    "    #print(tabulate(results_print, headers=[\"In domain?\", \"GPR predicted error\", \"0.33*RF predicted error\", \"x2_test value\"]))\n",
    "    return results"
   ]
  },
  {
   "cell_type": "code",
   "execution_count": 25,
   "metadata": {},
   "outputs": [
    {
     "name": "stderr",
     "output_type": "stream",
     "text": [
      "/Users/glennpalmer/.pyenv/versions/3.7.4/lib/python3.7/site-packages/sklearn/gaussian_process/_gpr.py:362: UserWarning: Predicted variances smaller than 0. Setting those variances to 0.\n",
      "  warnings.warn(\"Predicted variances smaller than 0. \"\n"
     ]
    }
   ],
   "source": [
    "results = test2(X_test)"
   ]
  },
  {
   "cell_type": "markdown",
   "metadata": {},
   "source": [
    "# Letting x_k run from 0 to 5:"
   ]
  },
  {
   "cell_type": "code",
   "execution_count": 31,
   "metadata": {},
   "outputs": [],
   "source": [
    "k = 3\n",
    "\n",
    "in_domain = []\n",
    "out_domain = []\n",
    "for i in range(0,test_num):\n",
    "    if results[i][0]==0:\n",
    "        out_domain.append(results[i][5+k])\n",
    "    else:\n",
    "        in_domain.append(results[i][5+k])"
   ]
  },
  {
   "cell_type": "code",
   "execution_count": 32,
   "metadata": {},
   "outputs": [
    {
     "data": {
      "image/png": "[encoded data removed]",
      "text/plain": [
       "<Figure size 432x288 with 1 Axes>"
      ]
     },
     "metadata": {
      "needs_background": "light"
     },
     "output_type": "display_data"
    }
   ],
   "source": [
    "plt.xlabel(\"x\" + str(k) + \" value\")\n",
    "plt.ylabel(\"Count\")\n",
    "plt.title(\"Counts of x\" + str(k) + \" values in domain\")\n",
    "plt.hist(in_domain);"
   ]
  },
  {
   "cell_type": "code",
   "execution_count": 33,
   "metadata": {},
   "outputs": [
    {
     "data": {
      "image/png": "[encoded data removed]",
      "text/plain": [
       "<Figure size 432x288 with 1 Axes>"
      ]
     },
     "metadata": {
      "needs_background": "light"
     },
     "output_type": "display_data"
    }
   ],
   "source": [
    "plt.xlabel(\"x\" + str(k) + \" value\")\n",
    "plt.ylabel(\"Count\")\n",
    "plt.title(\"Counts of x\" + str(k) + \" values out of domain\")\n",
    "plt.hist(out_domain);"
   ]
  },
  {
   "cell_type": "code",
   "execution_count": 34,
   "metadata": {},
   "outputs": [],
   "source": [
    "bins = np.linspace(0, 5, 50, endpoint=False)\n",
    "digitized_in = np.digitize(in_domain, bins)\n",
    "digitized_out = np.digitize(out_domain, bins)"
   ]
  },
  {
   "cell_type": "code",
   "execution_count": 35,
   "metadata": {},
   "outputs": [],
   "source": [
    "digitized_in = digitized_in.tolist()\n",
    "digitized_out = digitized_out.tolist()\n",
    "\n",
    "frac = []\n",
    "for i in range(1,51):\n",
    "    frac_in = (digitized_in.count(i)*1.0/(digitized_in.count(i)+digitized_out.count(i)))\n",
    "    frac.append(frac_in)"
   ]
  },
  {
   "cell_type": "code",
   "execution_count": 36,
   "metadata": {},
   "outputs": [
    {
     "data": {
      "image/png": "[encoded data removed]",
      "text/plain": [
       "<Figure size 432x288 with 1 Axes>"
      ]
     },
     "metadata": {
      "needs_background": "light"
     },
     "output_type": "display_data"
    }
   ],
   "source": [
    "x = np.linspace(0.1,5,50)\n",
    "y = frac\n",
    "\n",
    "plt.xlabel(\"x\" + str(k) + \" value\")\n",
    "plt.ylabel(\"Fraction in domain\")\n",
    "plt.title(\"Fraction in domain by value of x\" + str(k))\n",
    "\n",
    "plt.scatter(x,y);\n",
    "plt.plot(x,y);"
   ]
  },
  {
   "cell_type": "code",
   "execution_count": null,
   "metadata": {},
   "outputs": [],
   "source": []
  }
 ],
 "metadata": {
  "kernelspec": {
   "display_name": "Python 3",
   "language": "python",
   "name": "python3"
  },
  "language_info": {
   "codemirror_mode": {
    "name": "ipython",
    "version": 3
   },
   "file_extension": ".py",
   "mimetype": "text/x-python",
   "name": "python",
   "nbconvert_exporter": "python",
   "pygments_lexer": "ipython3",
   "version": "3.7.4"
  }
 },
 "nbformat": 4,
 "nbformat_minor": 2
}
