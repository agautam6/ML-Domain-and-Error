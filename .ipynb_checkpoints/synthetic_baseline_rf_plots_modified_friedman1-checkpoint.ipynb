{
 "cells": [
  {
   "cell_type": "code",
   "execution_count": 1,
   "metadata": {},
   "outputs": [],
   "source": [
    "from sklearn.datasets import make_friedman1\n",
    "import numpy as np\n",
    "import statistics\n",
    "import matplotlib.pyplot as plt\n",
    "\n",
    "from sklearn.model_selection import train_test_split\n",
    "from sklearn.gaussian_process import GaussianProcessRegressor\n",
    "from sklearn.ensemble import RandomForestRegressor\n",
    "from sklearn.gaussian_process.kernels import (RBF, Matern, RationalQuadratic,\n",
    "                                              ExpSineSquared, DotProduct,\n",
    "                                              ConstantKernel, WhiteKernel)\n",
    "from sklearn.linear_model import LinearRegression\n",
    "from sklearn.metrics import r2_score\n",
    "from sklearn.preprocessing import StandardScaler"
   ]
  },
  {
   "cell_type": "code",
   "execution_count": 2,
   "metadata": {},
   "outputs": [],
   "source": [
    "# define training data size\n",
    "training_num = 500\n",
    "\n",
    "# x-values: all uniformly distributed between 0 and 0.5\n",
    "x0_train=np.random.rand(training_num)*0.5\n",
    "x1_train=np.random.rand(training_num)*0.5\n",
    "x2_train=np.random.rand(training_num)*0.5\n",
    "x3_train=np.random.rand(training_num)*0.5\n",
    "x4_train=np.random.rand(training_num)*0.5\n",
    "X_train = [[x0_train[i], x1_train[i], x2_train[i], x3_train[i], x4_train[i]] for i in range(0,training_num)]\n",
    "\n",
    "# y-value with friedman function\n",
    "y_train = 30*np.sin(4*np.pi*x0_train*x1_train) + 20*(x2_train - 0.5)**2 + 10*x3_train + 5*x4_train"
   ]
  },
  {
   "cell_type": "code",
   "execution_count": 3,
   "metadata": {},
   "outputs": [
    {
     "data": {
      "image/png": "[encoded data removed]",
      "text/plain": [
       "<Figure size 432x288 with 1 Axes>"
      ]
     },
     "metadata": {
      "needs_background": "light"
     },
     "output_type": "display_data"
    }
   ],
   "source": [
    "plt.title('y-value distribution for modified Friedman 1')\n",
    "plt.hist(y_train, bins=30);"
   ]
  },
  {
   "cell_type": "code",
   "execution_count": 4,
   "metadata": {},
   "outputs": [],
   "source": [
    "# define test data size\n",
    "test_num = 100000\n",
    "\n",
    "# x-values: add or remove the *0.5 for each one\n",
    "x0_test=np.random.rand(test_num)*0.5\n",
    "x1_test=np.random.rand(test_num)*0.5\n",
    "x2_test=np.random.rand(test_num)*0.5\n",
    "x3_test=np.random.rand(test_num)*0.5\n",
    "x4_test=np.random.rand(test_num)*0.5\n",
    "X_test = [[x0_test[i], x1_test[i], x2_test[i], x3_test[i], x4_test[i]] for i in range(0,test_num)]\n",
    "\n",
    "# y-value with friedman function\n",
    "y_test = 30*np.sin(4*np.pi*x0_test*x1_test) + 20*(x2_test - 0.5)**2 + 10*x3_test + 5*x4_test"
   ]
  },
  {
   "cell_type": "code",
   "execution_count": 5,
   "metadata": {},
   "outputs": [
    {
     "data": {
      "image/png": "[encoded data removed]",
      "text/plain": [
       "<Figure size 432x288 with 1 Axes>"
      ]
     },
     "metadata": {
      "needs_background": "light"
     },
     "output_type": "display_data"
    }
   ],
   "source": [
    "plt.title('y-value distribution for modified Friedman 1')\n",
    "plt.hist(y_test, bins=30);"
   ]
  },
  {
   "cell_type": "code",
   "execution_count": 6,
   "metadata": {},
   "outputs": [],
   "source": [
    "def getrfmetrics(X_train, y_train, X_test, y_test):\n",
    "    regressor = RandomForestRegressor(n_estimators=145, random_state=8)\n",
    "    regressor.fit(X_train, y_train)\n",
    "    y_pred = regressor.predict(X_test)\n",
    "    # y_test = y_test.to_numpy(dtype=float)\n",
    "    y_residual = abs(y_pred - y_test)\n",
    "    y_res_no_abs = y_test - y_pred\n",
    "    error = []\n",
    "    for x in range(len(X_test)):\n",
    "        preds = []\n",
    "        for pred in regressor.estimators_:\n",
    "            preds.append(pred.predict([X_test[x]])[0])\n",
    "        error.append(statistics.stdev(preds))\n",
    "    error = np.array(error)\n",
    "    return y_residual, error, statistics.stdev(y_test), y_res_no_abs"
   ]
  },
  {
   "cell_type": "code",
   "execution_count": 7,
   "metadata": {},
   "outputs": [],
   "source": [
    "def prepareplot(res, sigma, stdev, number_of_bins):\n",
    "    # Define input data -- divide by standard deviation\n",
    "    model_errors = sigma / stdev\n",
    "    abs_res = res /stdev\n",
    "\n",
    "    # Set bins for calculating RMS\n",
    "    upperbound = np.amax(model_errors)\n",
    "    lowerbound = np.amin(model_errors)\n",
    "    bins = np.linspace(lowerbound, upperbound, number_of_bins, endpoint=False)\n",
    "\n",
    "    # Create a vector determining bin of each data point\n",
    "    digitized = np.digitize(model_errors, bins)\n",
    "\n",
    "    # Record which bins contain data (to avoid trying to do calculations on empty bins)\n",
    "    bins_present = []\n",
    "    for i in range(1, number_of_bins + 1):\n",
    "        if i in digitized:\n",
    "            bins_present.append(i)\n",
    "    \n",
    "    # Create array of weights based on counts in each bin\n",
    "    weights = []\n",
    "    for i in range(1,number_of_bins + 1):\n",
    "        if i in digitized:\n",
    "            weights.append(np.count_nonzero(digitized == i))\n",
    "    \n",
    "    # Calculate RMS of the absolute residuals\n",
    "    RMS_abs_res = [np.sqrt((abs_res[digitized == bins_present[i]] ** 2).mean()) for i in range(0, len(bins_present))]\n",
    "\n",
    "    # Set the x-values to the midpoint of each bin\n",
    "    bin_width = bins[1]-bins[0]\n",
    "    binned_model_errors = np.zeros(len(bins_present))\n",
    "    for i in range(0, len(bins_present)):\n",
    "        curr_bin = bins_present[i]\n",
    "        binned_model_errors[i] = bins[curr_bin-1] + bin_width/2\n",
    "\n",
    "    # Fit a line to the data\n",
    "    model = LinearRegression(fit_intercept=True)\n",
    "    model.fit(binned_model_errors[:, np.newaxis],\n",
    "                  RMS_abs_res, sample_weight=weights)  #### SELF: Can indicate subset of points to fit to using \":\" --> \"a:b\"\n",
    "    xfit = binned_model_errors\n",
    "    yfit = model.predict(xfit[:, np.newaxis])\n",
    "\n",
    "    # Calculate r^2 value\n",
    "    r_squared = r2_score(RMS_abs_res, yfit, sample_weight=weights)\n",
    "    # Calculate slope\n",
    "    slope = model.coef_\n",
    "    # Calculate y-intercept\n",
    "    intercept = model.intercept_\n",
    "    \n",
    "    return model_errors, abs_res, r_squared, slope, intercept, binned_model_errors, RMS_abs_res, xfit, yfit"
   ]
  },
  {
   "cell_type": "code",
   "execution_count": 8,
   "metadata": {},
   "outputs": [],
   "source": [
    "# Feature Scaling\n",
    "sc = StandardScaler()\n",
    "X_train = sc.fit_transform(X_train)\n",
    "X_test = sc.transform(X_test)"
   ]
  },
  {
   "cell_type": "code",
   "execution_count": null,
   "metadata": {},
   "outputs": [],
   "source": [
    "################################# RFDT ######################################\n",
    "# Train RF model and get relevant data\n",
    "res, sigma, std, y_res = getrfmetrics(X_train, y_train, X_test, y_test)"
   ]
  },
  {
   "cell_type": "code",
   "execution_count": null,
   "metadata": {},
   "outputs": [],
   "source": [
    "# Prepare data for plots\n",
    "number_of_bins = 15\n",
    "model_errors, abs_res, r_squared, slope, intercept, binned_model_errors, RMS_abs_res, xfit, yfit = prepareplot(res, sigma, std, number_of_bins)"
   ]
  },
  {
   "cell_type": "code",
   "execution_count": null,
   "metadata": {},
   "outputs": [],
   "source": [
    "# Create initial scatter plot\n",
    "plt.xlabel(\"RF model errors / dataset stdev\")\n",
    "plt.ylabel(\"RF Absolute residuals / dataset stdev\")\n",
    "plt.title(\"RF Absolute Residuals vs. Model Errors\")\n",
    "plt.plot(model_errors, abs_res, '.', color='blue');"
   ]
  },
  {
   "cell_type": "code",
   "execution_count": null,
   "metadata": {},
   "outputs": [],
   "source": [
    "# Histogram of RF error bin counts\n",
    "plt.hist(model_errors, bins=number_of_bins, color='blue', edgecolor='black')\n",
    "plt.xlabel(\"RF model errors / dataset stdev\")\n",
    "plt.ylabel(\"Counts\")\n",
    "plt.title(\"RF Bin Counts\");"
   ]
  },
  {
   "cell_type": "code",
   "execution_count": null,
   "metadata": {},
   "outputs": [],
   "source": [
    "# Create RMS scatter plot\n",
    "plt.xlabel(\"RF model errors / dataset stdev\")\n",
    "plt.ylabel(\"RF RMS Absolute residuals / dataset stdev\")\n",
    "#plt.ylim(0,1)\n",
    "plt.title(\"RF RMS Absolute Residuals vs. Model Errors\")\n",
    "plt.text(0.05,0.25,'r^2 = %f' %(r_squared))\n",
    "plt.text(0.05,0.23, 'slope = %f' %(slope))\n",
    "plt.text(0.05,0.21, 'y-intercept = %f' %(intercept))\n",
    "plt.plot(binned_model_errors, RMS_abs_res, 'o', color='blue')\n",
    "plt.plot(xfit, yfit);"
   ]
  },
  {
   "cell_type": "code",
   "execution_count": null,
   "metadata": {},
   "outputs": [],
   "source": [
    "#plt.ylim(0,10)\n",
    "plt.xlabel(\"RF residuals / RF model errors\")\n",
    "plt.ylabel(\"Counts\")\n",
    "plt.title(\"Residual / Model error -- NOT SCALED\");\n",
    "plt.hist(y_res/sigma, bins=30, color='blue', edgecolor='black');"
   ]
  },
  {
   "cell_type": "code",
   "execution_count": null,
   "metadata": {},
   "outputs": [],
   "source": [
    "print(np.mean(y_res/sigma))\n",
    "print(np.std(y_res/sigma))"
   ]
  },
  {
   "cell_type": "code",
   "execution_count": null,
   "metadata": {},
   "outputs": [],
   "source": [
    "a = np.std(y_train)"
   ]
  },
  {
   "cell_type": "code",
   "execution_count": null,
   "metadata": {},
   "outputs": [],
   "source": [
    "#plt.ylim(0,10)\n",
    "plt.xlabel(\"RF residuals / (RF model errors * 0.256 + 0.0184)\")\n",
    "plt.ylabel(\"Counts\")\n",
    "plt.title(\"Residual / Model error -- SCALED\");\n",
    "plt.hist((y_res/a)/((sigma/a)*0.256 + 0.0184), bins=30, color='blue', edgecolor='black');"
   ]
  },
  {
   "cell_type": "code",
   "execution_count": null,
   "metadata": {},
   "outputs": [],
   "source": [
    "print(np.mean(y_res/(sigma*0.256+0.0184*10.276)))\n",
    "print(np.std(y_res/(sigma*0.256+0.0184*10.276)))"
   ]
  },
  {
   "cell_type": "code",
   "execution_count": null,
   "metadata": {},
   "outputs": [],
   "source": [
    "np.std(y_train)"
   ]
  },
  {
   "cell_type": "code",
   "execution_count": null,
   "metadata": {},
   "outputs": [],
   "source": []
  }
 ],
 "metadata": {
  "kernelspec": {
   "display_name": "Python 3",
   "language": "python",
   "name": "python3"
  },
  "language_info": {
   "codemirror_mode": {
    "name": "ipython",
    "version": 3
   },
   "file_extension": ".py",
   "mimetype": "text/x-python",
   "name": "python",
   "nbconvert_exporter": "python",
   "pygments_lexer": "ipython3",
   "version": "3.7.4"
  }
 },
 "nbformat": 4,
 "nbformat_minor": 2
}
