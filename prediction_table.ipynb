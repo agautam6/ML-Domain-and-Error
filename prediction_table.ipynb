{
 "cells": [
  {
   "cell_type": "code",
   "execution_count": 1,
   "metadata": {},
   "outputs": [],
   "source": [
    "%matplotlib inline\n",
    "import matplotlib.pyplot as plt\n",
    "import numpy as np\n",
    "import pandas as pd\n",
    "from tabulate import tabulate"
   ]
  },
  {
   "cell_type": "code",
   "execution_count": 2,
   "metadata": {},
   "outputs": [],
   "source": [
    "# Define GPR and RF errors\n",
    "GPR_errors = np.random.random_sample(37,)\n",
    "RF_errors = np.random.random_sample(37,)"
   ]
  },
  {
   "cell_type": "code",
   "execution_count": 3,
   "metadata": {},
   "outputs": [],
   "source": [
    "# Fetch data with filename\n",
    "def importdata(filename):\n",
    "    data = pd.read_csv(filename, header=None, sep=',')\n",
    "    return data"
   ]
  },
  {
   "cell_type": "code",
   "execution_count": 4,
   "metadata": {},
   "outputs": [],
   "source": [
    "data = importdata('_haijinlogfeatures_Pd_only.csv')"
   ]
  },
  {
   "cell_type": "code",
   "execution_count": 5,
   "metadata": {},
   "outputs": [],
   "source": [
    "list = []\n",
    "for element in data[24]:\n",
    "    list.append(element)\n",
    "del list[0]"
   ]
  },
  {
   "cell_type": "code",
   "execution_count": 6,
   "metadata": {},
   "outputs": [],
   "source": [
    "list2 = []\n",
    "for element in data[25]:\n",
    "    list2.append(element)\n",
    "del list2[0]"
   ]
  },
  {
   "cell_type": "code",
   "execution_count": 7,
   "metadata": {},
   "outputs": [
    {
     "name": "stdout",
     "output_type": "stream",
     "text": [
      "['Pd-H', 'Pd-He', 'Pd-Li', 'Pd-Be', 'Pd-B', 'Pd-C', 'Pd-N', 'Pd-O', 'Pd-F', 'Pd-Ne', 'Pd-Li', 'Pd-Na', 'Pd-K', 'Pd-Rb', 'Pd-Cs', 'Pd-Fr', 'Pd-S', 'Pd-Se', 'Pd-Te', 'Pd-Po', 'Pd-Sc', 'Pd-Ti', 'Pd-V', 'Pd-Cr', 'Pd-Mn', 'Pd-Fe', 'Pd-Co', 'Pd-Ni', 'Pd-Cu', 'Pd-Y', 'Pd-Zr', 'Pd-Nb', 'Pd-Mo', 'Pd-Tc', 'Pd-Ru', 'Pd-Pd', 'Pd-Ag']\n"
     ]
    }
   ],
   "source": [
    "final_list = []\n",
    "for i in range(0,37):\n",
    "    first = list[i]\n",
    "    second = list2[i]\n",
    "    combined = first + \"-\" + second\n",
    "    final_list.append(combined)\n",
    "print(final_list)\n",
    "    "
   ]
  },
  {
   "cell_type": "code",
   "execution_count": 8,
   "metadata": {},
   "outputs": [],
   "source": [
    "def predict(GPR_error, RF_error):\n",
    "    if GPR_error < 0.8 and RF_error < 0.8:\n",
    "        return 1\n",
    "    else:\n",
    "        return 0"
   ]
  },
  {
   "cell_type": "code",
   "execution_count": 9,
   "metadata": {},
   "outputs": [],
   "source": [
    "predictions = [predict(GPR_errors[i], RF_errors[i]) for i in range(0,37)]"
   ]
  },
  {
   "cell_type": "code",
   "execution_count": 10,
   "metadata": {},
   "outputs": [],
   "source": [
    "results = [(final_list[i], predictions[i], GPR_errors[i], RF_errors[i]) for i in range(0,37)]"
   ]
  },
  {
   "cell_type": "code",
   "execution_count": 11,
   "metadata": {},
   "outputs": [
    {
     "name": "stdout",
     "output_type": "stream",
     "text": [
      "Material      In domain?    GPR predicted error    RF predicted error\n",
      "----------  ------------  ---------------------  --------------------\n",
      "Pd-H                   1               0.547811             0.356204\n",
      "Pd-He                  0               0.422015             0.873446\n",
      "Pd-Li                  1               0.580411             0.0687282\n",
      "Pd-Be                  1               0.555683             0.471131\n",
      "Pd-B                   0               0.807747             0.715942\n",
      "Pd-C                   0               0.644516             0.987158\n",
      "Pd-N                   1               0.771236             0.776554\n",
      "Pd-O                   1               0.714313             0.392569\n",
      "Pd-F                   1               0.422478             0.394766\n",
      "Pd-Ne                  1               0.500467             0.0440793\n",
      "Pd-Li                  1               0.630144             0.218401\n",
      "Pd-Na                  1               0.711676             0.47875\n",
      "Pd-K                   0               0.318609             0.972514\n",
      "Pd-Rb                  1               0.349131             0.213647\n",
      "Pd-Cs                  0               0.867468             0.788813\n",
      "Pd-Fr                  1               0.617468             0.289659\n",
      "Pd-S                   1               0.480044             0.603872\n",
      "Pd-Se                  0               0.815164             0.501517\n",
      "Pd-Te                  1               0.730821             0.102106\n",
      "Pd-Po                  1               0.25087              0.190974\n",
      "Pd-Sc                  1               0.537828             0.612932\n",
      "Pd-Ti                  0               0.048763             0.978523\n",
      "Pd-V                   1               0.799157             0.774042\n",
      "Pd-Cr                  1               0.155749             0.691058\n",
      "Pd-Mn                  0               0.82458              0.391354\n",
      "Pd-Fe                  0               0.469617             0.81454\n",
      "Pd-Co                  1               0.525066             0.56104\n",
      "Pd-Ni                  0               0.42726              0.901387\n",
      "Pd-Cu                  0               0.428602             0.930918\n",
      "Pd-Y                   1               0.54166              0.396437\n",
      "Pd-Zr                  1               0.332462             0.288055\n",
      "Pd-Nb                  1               0.670569             0.639244\n",
      "Pd-Mo                  1               0.528215             0.784323\n",
      "Pd-Tc                  0               0.289423             0.818957\n",
      "Pd-Ru                  1               0.444646             0.134456\n",
      "Pd-Pd                  1               0.781613             0.417011\n",
      "Pd-Ag                  1               0.566334             0.0196662\n"
     ]
    }
   ],
   "source": [
    "print(tabulate(results, headers=[\"Material\", \"In domain?\", \"GPR predicted error\", \"RF predicted error\"]))"
   ]
  },
  {
   "cell_type": "code",
   "execution_count": null,
   "metadata": {},
   "outputs": [],
   "source": []
  }
 ],
 "metadata": {
  "kernelspec": {
   "display_name": "Python 3",
   "language": "python",
   "name": "python3"
  },
  "language_info": {
   "codemirror_mode": {
    "name": "ipython",
    "version": 3
   },
   "file_extension": ".py",
   "mimetype": "text/x-python",
   "name": "python",
   "nbconvert_exporter": "python",
   "pygments_lexer": "ipython3",
   "version": "3.7.4"
  }
 },
 "nbformat": 4,
 "nbformat_minor": 2
}
