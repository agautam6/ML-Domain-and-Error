{
 "cells": [
  {
   "cell_type": "code",
   "execution_count": 1,
   "metadata": {},
   "outputs": [
    {
     "name": "stdout",
     "output_type": "stream",
     "text": [
      "/////////////////   ITR  0    ///////////////////\n",
      "WARNING:tensorflow:From C:\\Users\\siqi2\\Anaconda3\\envs\\urenvname\\lib\\site-packages\\tensorflow_core\\python\\keras\\initializers.py:143: calling RandomNormal.__init__ (from tensorflow.python.ops.init_ops) with dtype is deprecated and will be removed in a future version.\n",
      "Instructions for updating:\n",
      "Call initializer instance with the dtype argument instead of passing it to the constructor\n",
      "WARNING:tensorflow:From C:\\Users\\siqi2\\Anaconda3\\envs\\urenvname\\lib\\site-packages\\tensorflow_core\\python\\ops\\resource_variable_ops.py:1630: calling BaseResourceVariable.__init__ (from tensorflow.python.ops.resource_variable_ops) with constraint is deprecated and will be removed in a future version.\n",
      "Instructions for updating:\n",
      "If using Keras pass *_constraint arguments to layers.\n",
      "Train on 285 samples\n",
      "Epoch 1/20\n",
      "285/285 [==============================] - 1s 2ms/sample - loss: 0.2294\n",
      "Epoch 2/20\n",
      "285/285 [==============================] - 0s 356us/sample - loss: 0.1544\n",
      "Epoch 3/20\n",
      "285/285 [==============================] - 0s 421us/sample - loss: 0.0806\n",
      "Epoch 4/20\n",
      "285/285 [==============================] - 0s 498us/sample - loss: 0.0497\n",
      "Epoch 5/20\n",
      "285/285 [==============================] - 0s 468us/sample - loss: 0.0405\n",
      "Epoch 6/20\n",
      "285/285 [==============================] - 0s 452us/sample - loss: 0.0349\n",
      "Epoch 7/20\n",
      "285/285 [==============================] - 0s 458us/sample - loss: 0.0314\n",
      "Epoch 8/20\n",
      "285/285 [==============================] - 0s 360us/sample - loss: 0.0284\n",
      "Epoch 9/20\n",
      "285/285 [==============================] - 0s 449us/sample - loss: 0.0273\n",
      "Epoch 10/20\n",
      "285/285 [==============================] - 0s 437us/sample - loss: 0.0253\n",
      "Epoch 11/20\n",
      "285/285 [==============================] - 0s 409us/sample - loss: 0.0240\n",
      "Epoch 12/20\n",
      "285/285 [==============================] - 0s 372us/sample - loss: 0.0233\n",
      "Epoch 13/20\n",
      "285/285 [==============================] - 0s 669us/sample - loss: 0.0207\n",
      "Epoch 14/20\n",
      "285/285 [==============================] - 0s 1ms/sample - loss: 0.0202\n",
      "Epoch 15/20\n",
      "285/285 [==============================] - 0s 488us/sample - loss: 0.0196\n",
      "Epoch 16/20\n",
      "285/285 [==============================] - 0s 466us/sample - loss: 0.0194\n",
      "Epoch 17/20\n",
      "285/285 [==============================] - 0s 454us/sample - loss: 0.0174\n",
      "Epoch 18/20\n",
      "285/285 [==============================] - 0s 549us/sample - loss: 0.0162\n",
      "Epoch 19/20\n",
      "285/285 [==============================] - 0s 435us/sample - loss: 0.0168\n",
      "Epoch 20/20\n",
      "285/285 [==============================] - 0s 488us/sample - loss: 0.0165\n",
      "\n",
      " history.history: {'loss': [0.22944424972918473, 0.15441451868728587, 0.08056796437717582, 0.049690656964422056, 0.04051794449537339, 0.034911204280593154, 0.03142248785017025, 0.028392345636364138, 0.027295248227586087, 0.025300320491129367, 0.02401189237685972, 0.023312473199902137, 0.020724452921728555, 0.02021186726919392, 0.019646956614962078, 0.01939313072637704, 0.017353664700701637, 0.016164384506593802, 0.01681313461117577, 0.01647964259303224]}\n",
      "123/123 [==============================] - 0s 586us/sample - loss: 0.0426\n",
      "\n",
      " test loss, acc: 0.04262483559124838\n",
      "/////////////////   ITR  1    ///////////////////\n",
      "Train on 285 samples\n",
      "Epoch 1/20\n",
      "285/285 [==============================] - 1s 4ms/sample - loss: 0.1904\n",
      "Epoch 2/20\n",
      "285/285 [==============================] - 0s 603us/sample - loss: 0.1548\n",
      "Epoch 3/20\n",
      "285/285 [==============================] - 0s 934us/sample - loss: 0.1071\n",
      "Epoch 4/20\n",
      "285/285 [==============================] - 0s 470us/sample - loss: 0.0679\n",
      "Epoch 5/20\n",
      "285/285 [==============================] - 0s 1ms/sample - loss: 0.0461\n",
      "Epoch 6/20\n",
      "285/285 [==============================] - 0s 490us/sample - loss: 0.0385\n",
      "Epoch 7/20\n",
      "285/285 [==============================] - 0s 494us/sample - loss: 0.0315\n",
      "Epoch 8/20\n",
      "285/285 [==============================] - 0s 492us/sample - loss: 0.0287\n",
      "Epoch 9/20\n",
      "285/285 [==============================] - 0s 1ms/sample - loss: 0.0265\n",
      "Epoch 10/20\n",
      "285/285 [==============================] - 0s 432us/sample - loss: 0.0255\n",
      "Epoch 11/20\n",
      "285/285 [==============================] - 0s 847us/sample - loss: 0.0240\n",
      "Epoch 12/20\n",
      "285/285 [==============================] - 1s 2ms/sample - loss: 0.0212 0s - loss: 0.02\n",
      "Epoch 13/20\n",
      "285/285 [==============================] - 0s 909us/sample - loss: 0.0211\n",
      "Epoch 14/20\n",
      "285/285 [==============================] - 0s 1ms/sample - loss: 0.0183\n",
      "Epoch 15/20\n",
      "285/285 [==============================] - 0s 610us/sample - loss: 0.0180\n",
      "Epoch 16/20\n",
      "285/285 [==============================] - 0s 583us/sample - loss: 0.0169\n",
      "Epoch 17/20\n",
      "285/285 [==============================] - 0s 533us/sample - loss: 0.0159\n",
      "Epoch 18/20\n",
      "285/285 [==============================] - 0s 365us/sample - loss: 0.0149\n",
      "Epoch 19/20\n",
      "285/285 [==============================] - 0s 1ms/sample - loss: 0.0144\n",
      "Epoch 20/20\n",
      "285/285 [==============================] - 0s 655us/sample - loss: 0.0135\n",
      "\n",
      " history.history: {'loss': [0.19035725704018483, 0.15480523807274407, 0.10708362703914182, 0.06792236777561668, 0.04606646174573127, 0.03850808213546611, 0.03149048655432763, 0.02868041478448727, 0.026510817181572253, 0.02545867816610425, 0.02397232151002084, 0.0211807333582424, 0.02114251844192806, 0.018293248482350782, 0.018001261672715804, 0.01693866390881962, 0.015932970083923192, 0.01493528661759276, 0.014357523868072843, 0.013526879658456892]}\n",
      "123/123 [==============================] - 0s 896us/sample - loss: 0.0345\n",
      "\n",
      " test loss, acc: 0.03452603576507995\n",
      "/////////////////   ITR  2    ///////////////////\n",
      "Train on 285 samples\n",
      "Epoch 1/20\n",
      "285/285 [==============================] - 1s 3ms/sample - loss: 0.2373\n",
      "Epoch 2/20\n",
      "285/285 [==============================] - 0s 561us/sample - loss: 0.1425\n",
      "Epoch 3/20\n",
      "285/285 [==============================] - 0s 478us/sample - loss: 0.0723\n",
      "Epoch 4/20\n",
      "285/285 [==============================] - 0s 578us/sample - loss: 0.0454\n",
      "Epoch 5/20\n",
      "285/285 [==============================] - 0s 489us/sample - loss: 0.0399\n",
      "Epoch 6/20\n",
      "285/285 [==============================] - 0s 503us/sample - loss: 0.0359\n",
      "Epoch 7/20\n",
      "285/285 [==============================] - 0s 671us/sample - loss: 0.0323\n",
      "Epoch 8/20\n",
      "285/285 [==============================] - 0s 448us/sample - loss: 0.0307\n",
      "Epoch 9/20\n",
      "285/285 [==============================] - 0s 509us/sample - loss: 0.0273\n",
      "Epoch 10/20\n",
      "285/285 [==============================] - 0s 537us/sample - loss: 0.0271\n",
      "Epoch 11/20\n",
      "285/285 [==============================] - 0s 519us/sample - loss: 0.0254\n",
      "Epoch 12/20\n",
      "285/285 [==============================] - 0s 512us/sample - loss: 0.0248\n",
      "Epoch 13/20\n",
      "285/285 [==============================] - 0s 535us/sample - loss: 0.0233\n",
      "Epoch 14/20\n",
      "285/285 [==============================] - 0s 579us/sample - loss: 0.0210\n",
      "Epoch 15/20\n",
      "285/285 [==============================] - 0s 560us/sample - loss: 0.0209\n",
      "Epoch 16/20\n",
      "285/285 [==============================] - 0s 473us/sample - loss: 0.0184\n",
      "Epoch 17/20\n",
      "285/285 [==============================] - 0s 548us/sample - loss: 0.0187\n",
      "Epoch 18/20\n",
      "285/285 [==============================] - 0s 509us/sample - loss: 0.0169\n",
      "Epoch 19/20\n",
      "285/285 [==============================] - 0s 517us/sample - loss: 0.0161\n",
      "Epoch 20/20\n",
      "285/285 [==============================] - 0s 1ms/sample - loss: 0.0149\n",
      "\n",
      " history.history: {'loss': [0.2372701883218006, 0.14248877311158076, 0.07230725517627179, 0.04543740731631324, 0.039874634117280185, 0.03591963167204276, 0.0323004981690789, 0.030685817696186796, 0.027345437703556137, 0.02710318201009119, 0.02535186119361274, 0.024785205542126244, 0.023315478099934887, 0.020977140714724857, 0.0208898061445277, 0.018431609737474406, 0.018683742938089398, 0.016850421458417385, 0.016123431845028933, 0.014877910801340221]}\n",
      "123/123 [==============================] - 0s 2ms/sample - loss: 0.0429\n",
      "\n",
      " test loss, acc: 0.042872878382118736\n",
      "/////////////////   ITR  3    ///////////////////\n",
      "Train on 285 samples\n",
      "Epoch 1/20\n",
      "285/285 [==============================] - 1s 2ms/sample - loss: 0.2363\n",
      "Epoch 2/20\n",
      "285/285 [==============================] - 0s 419us/sample - loss: 0.1592\n",
      "Epoch 3/20\n",
      "285/285 [==============================] - 0s 396us/sample - loss: 0.1001\n",
      "Epoch 4/20\n"
     ]
    },
    {
     "name": "stdout",
     "output_type": "stream",
     "text": [
      "285/285 [==============================] - 0s 318us/sample - loss: 0.0698\n",
      "Epoch 5/20\n",
      "285/285 [==============================] - 0s 363us/sample - loss: 0.0515\n",
      "Epoch 6/20\n",
      "285/285 [==============================] - 0s 418us/sample - loss: 0.0475\n",
      "Epoch 7/20\n",
      "285/285 [==============================] - 0s 372us/sample - loss: 0.0374\n",
      "Epoch 8/20\n",
      "285/285 [==============================] - 0s 402us/sample - loss: 0.0348\n",
      "Epoch 9/20\n",
      "285/285 [==============================] - 0s 458us/sample - loss: 0.0300\n",
      "Epoch 10/20\n",
      "285/285 [==============================] - 0s 396us/sample - loss: 0.0267s - loss: 0.02\n",
      "Epoch 11/20\n",
      "285/285 [==============================] - 0s 439us/sample - loss: 0.0241\n",
      "Epoch 12/20\n",
      "285/285 [==============================] - 0s 463us/sample - loss: 0.0207\n",
      "Epoch 13/20\n",
      "285/285 [==============================] - 0s 461us/sample - loss: 0.0191\n",
      "Epoch 14/20\n",
      "285/285 [==============================] - 0s 459us/sample - loss: 0.0191\n",
      "Epoch 15/20\n",
      "285/285 [==============================] - 0s 487us/sample - loss: 0.0165\n",
      "Epoch 16/20\n",
      "285/285 [==============================] - 0s 429us/sample - loss: 0.0154\n",
      "Epoch 17/20\n",
      "285/285 [==============================] - 0s 434us/sample - loss: 0.0140\n",
      "Epoch 18/20\n",
      "285/285 [==============================] - 0s 506us/sample - loss: 0.0138\n",
      "Epoch 19/20\n",
      "285/285 [==============================] - 0s 470us/sample - loss: 0.0133\n",
      "Epoch 20/20\n",
      "285/285 [==============================] - 0s 450us/sample - loss: 0.0124\n",
      "\n",
      " history.history: {'loss': [0.23634631374622123, 0.15922355070187336, 0.10010303794651439, 0.06978219067841246, 0.05146268388182905, 0.047459704727914775, 0.03742434657097124, 0.034849986466660834, 0.03003346048940888, 0.02672708809392102, 0.024120364191108627, 0.020695764675589378, 0.019093816114483367, 0.019137691447037485, 0.016451216362040947, 0.015382002715405338, 0.014009643473719623, 0.013787833546909193, 0.013346753328254348, 0.012433994871874651]}\n",
      "123/123 [==============================] - 0s 904us/sample - loss: 0.0412\n",
      "\n",
      " test loss, acc: 0.041245377584686126\n",
      "/////////////////   ITR  4    ///////////////////\n",
      "Train on 285 samples\n",
      "Epoch 1/20\n",
      "285/285 [==============================] - 1s 2ms/sample - loss: 0.1925\n",
      "Epoch 2/20\n",
      "285/285 [==============================] - 0s 482us/sample - loss: 0.1421\n",
      "Epoch 3/20\n",
      "285/285 [==============================] - 0s 499us/sample - loss: 0.0824\n",
      "Epoch 4/20\n",
      "285/285 [==============================] - 0s 583us/sample - loss: 0.0566\n",
      "Epoch 5/20\n",
      "285/285 [==============================] - 0s 510us/sample - loss: 0.0435\n",
      "Epoch 6/20\n",
      "285/285 [==============================] - 0s 466us/sample - loss: 0.0346\n",
      "Epoch 7/20\n",
      "285/285 [==============================] - 0s 473us/sample - loss: 0.0284\n",
      "Epoch 8/20\n",
      "285/285 [==============================] - 0s 456us/sample - loss: 0.0246\n",
      "Epoch 9/20\n",
      "285/285 [==============================] - 0s 462us/sample - loss: 0.0221\n",
      "Epoch 10/20\n",
      "285/285 [==============================] - 0s 490us/sample - loss: 0.0193\n",
      "Epoch 11/20\n",
      "285/285 [==============================] - 0s 484us/sample - loss: 0.0180\n",
      "Epoch 12/20\n",
      "285/285 [==============================] - 0s 449us/sample - loss: 0.0156\n",
      "Epoch 13/20\n",
      "285/285 [==============================] - 0s 451us/sample - loss: 0.0146\n",
      "Epoch 14/20\n",
      "285/285 [==============================] - 0s 451us/sample - loss: 0.0134\n",
      "Epoch 15/20\n",
      "285/285 [==============================] - 0s 438us/sample - loss: 0.0128\n",
      "Epoch 16/20\n",
      "285/285 [==============================] - 0s 347us/sample - loss: 0.0118\n",
      "Epoch 17/20\n",
      "285/285 [==============================] - 0s 404us/sample - loss: 0.0116\n",
      "Epoch 18/20\n",
      "285/285 [==============================] - 0s 428us/sample - loss: 0.0107\n",
      "Epoch 19/20\n",
      "285/285 [==============================] - 0s 463us/sample - loss: 0.0100\n",
      "Epoch 20/20\n",
      "285/285 [==============================] - 0s 442us/sample - loss: 0.0102\n",
      "\n",
      " history.history: {'loss': [0.19252648414521104, 0.14206064139541827, 0.08242190471981048, 0.05655797653557863, 0.043460403074788156, 0.034601579354912565, 0.028436964296065924, 0.02464999113918135, 0.022131596932906592, 0.019331763998866734, 0.018019106855877397, 0.015604356226200858, 0.014583476602606345, 0.013396873500345177, 0.012780899584309705, 0.01179658998980334, 0.011571742406343682, 0.0107379350658065, 0.010042519224889315, 0.010157760114229301]}\n",
      "123/123 [==============================] - 0s 947us/sample - loss: 0.0562\n",
      "\n",
      " test loss, acc: 0.05619271438780839\n"
     ]
    }
   ],
   "source": [
    "# Regression Example With Boston Dataset: Baseline\n",
    "from pandas import read_csv\n",
    "from tensorflow.keras.models import Sequential\n",
    "from tensorflow.keras.layers import Dense\n",
    "from tensorflow.keras.wrappers.scikit_learn import KerasRegressor\n",
    "from sklearn.model_selection import cross_val_score\n",
    "from sklearn.model_selection import KFold\n",
    "from sklearn.utils import resample\n",
    "from sklearn.model_selection import train_test_split\n",
    "\n",
    "import matplotlib.pyplot as plt\n",
    "import math\n",
    "import csv\n",
    "import pandas as pd\n",
    "import numpy as np\n",
    "\n",
    "df = pd.read_csv(\"diffusion.csv\", header = 0)\n",
    "dataset = df.iloc[:,3:]\n",
    "Y = dataset.iloc[:,0]\n",
    "X = dataset.iloc[:,1:]\n",
    "\n",
    "from sklearn.preprocessing import StandardScaler\n",
    "scaler = StandardScaler()\n",
    "X=scaler.fit_transform(X)\n",
    "\n",
    "# train-test split\n",
    "X_train, X_test, y_train, y_test = train_test_split(X, Y, test_size=0.3, random_state=42)\n",
    "X_trs = []\n",
    "y_trs = []\n",
    "\n",
    "# Parameter: number of ensembled models\n",
    "numB = 25;\n",
    "for i in range(numB):\n",
    "    X_train1, y_train1 = resample(X_train, y_train)\n",
    "    X_trs.append(X_train1)\n",
    "    y_trs.append(y_train1)\n",
    "\n",
    "# define base model\n",
    "def baseline_model():\n",
    "\t# create model\n",
    "\tmodel = Sequential()\n",
    "\tmodel.add(Dense(\n",
    "\t\t16,\n",
    "\t\tinput_dim=X.shape[1],\n",
    "\t\tkernel_initializer='normal',\n",
    "\t\tactivation='relu'))\n",
    "\tmodel.add(Dense(\n",
    "\t\t16,\n",
    "\t\tkernel_initializer='normal',\n",
    "\t\tactivation='relu'))\n",
    "\tmodel.add(Dense(\n",
    "\t\t1,\n",
    "\t\tkernel_initializer='normal'))\n",
    "\t# Compile model\n",
    "\tmodel.compile(loss='mean_squared_error', optimizer='adam')\n",
    "\treturn model\n",
    "\n",
    "# train all numB models with bootstrap training sets\n",
    "Bmodels = []  # list to store all numB models\n",
    "histories = []\n",
    "results = []\n",
    "for i in range(numB):\n",
    "    print('/////////////////   ITR ', i, '   ///////////////////')\n",
    "    b_model = baseline_model()\n",
    "    history = b_model.fit(X_trs[i], y_trs[i],\n",
    "                         batch_size=5,\n",
    "                         epochs=20)\n",
    "    histories.append(history)\n",
    "    print('\\n history.history:', history.history)\n",
    "    result = b_model.evaluate(X_test, y_test, batch_size = 64)\n",
    "    results.append(result)\n",
    "    print('\\n test loss, acc:', result)\n",
    "    Bmodels.append(b_model)"
   ]
  },
  {
   "cell_type": "code",
   "execution_count": null,
   "metadata": {},
   "outputs": [],
   "source": []
  },
  {
   "cell_type": "code",
   "execution_count": 2,
   "metadata": {},
   "outputs": [
    {
     "name": "stdout",
     "output_type": "stream",
     "text": [
      "70     1.00520\n",
      "218   -0.10139\n",
      "258    0.11524\n",
      "33     1.76010\n",
      "42     0.33779\n",
      "        ...   \n",
      "60    -0.08491\n",
      "79     0.00000\n",
      "290   -0.05668\n",
      "227   -0.41841\n",
      "305    0.49451\n",
      "Name: E_regression_shift, Length: 123, dtype: float64\n"
     ]
    }
   ],
   "source": [
    "#print(y_test)\n",
    "\n"
   ]
  },
  {
   "cell_type": "code",
   "execution_count": 3,
   "metadata": {},
   "outputs": [],
   "source": [
    "Y_preds = []  # Arrays of predictions on test dataset from all bootstrap models\n",
    "perr2 = []  # residuals (real y in test dataset minus prediction result)\n",
    "perrA = []  # absoulute residuals\n",
    "pstd = []   # standard deviations of predictions from all bootstrap models\n",
    "pdist = []  # normalized residuals\n",
    "for i in range(numB):\n",
    "    yp = Bmodels[i].predict(X_test)\n",
    "    Y_preds.append(yp)\n",
    "    \n",
    "for ix in range(len(X_test)):\n",
    "    tempyps = []\n",
    "    for i in range(numB):\n",
    "        tempyps.append(Y_preds[i][ix])\n",
    "    res = y_test.iloc[ix] - np.mean(tempyps)\n",
    "    istd = np.std(tempyps)\n",
    "    perr2.append(res)\n",
    "    perrA.append(abs(res))\n",
    "    pstd.append(istd)\n",
    "    pdist.append(res/istd)"
   ]
  },
  {
   "cell_type": "code",
   "execution_count": 4,
   "metadata": {},
   "outputs": [
    {
     "name": "stdout",
     "output_type": "stream",
     "text": [
      "Mean of absolute residuals: 0.13  Mean of std: 0.07\n"
     ]
    }
   ],
   "source": [
    "\n",
    "print(\"Mean of absolute residuals: %.2f  Mean of std: %.2f\"%(np.mean(perrA), np.mean(pstd)))"
   ]
  },
  {
   "cell_type": "code",
   "execution_count": 5,
   "metadata": {},
   "outputs": [
    {
     "name": "stdout",
     "output_type": "stream",
     "text": [
      "[0.007282943916320894, 0.04943046303033828, 0.011602185478210458, 0.3701560426712036, 0.24752826734542843, 0.08184593620300296, 0.11540579511642457, 0.3259861415052414, 0.131470858335495, 0.012093607740402246, 0.2613126431369781, 0.17401114386558525, 0.03800281618118287, 0.06952872439384458, 0.07965856620788575, 0.06037281135559082, 0.016120543437004087, 0.1311832728600502, 0.15794592622439574, 0.018465159034728895, 0.10178224138259884, 0.16279044844627383, 0.12702615597724914, 0.3512153691482544, 0.03543386314868924, 0.09826846960067748, 0.012710643925666815, 0.09942442460060119, 0.023805475858449943, 0.024840759067535412, 0.03137881378173829, 0.07184035047531127, 0.02290477231144905, 0.07777095944821834, 0.10864738589048387, 0.02185493071556094, 0.0043633759117126525, 0.14273297065734858, 0.043641023869514475, 0.05723031211853025, 0.40899970929622653, 0.05367005849838258, 0.025826518533229828, 0.0028094765377044695, 0.1450372628211975, 0.7568010571765899, 0.022364881017208113, 0.5036034218597413, 0.15320887468457223, 0.05070723340034486, 0.0853070993375778, 0.04225419056892395, 0.23713256069183347, 0.32853181007385257, 0.1601091125701368, 0.2139740606021881, 0.06340117007493973, 0.6578960022985936, 0.09697192489624021, 0.038208798937797536, 0.3803709208488464, 0.002288408594131486, 0.38083858751296995, 0.2045942281293869, 0.1999697304344178, 0.09922246274948121, 0.16676451673507692, 0.23892361390590666, 0.048457408354282375, 0.2801102241277694, 0.13912443800926208, 0.02951039396286015, 0.1543634433746338, 0.31347620956420896, 0.14778377601623535, 0.123140370778862, 0.2539841367721558, 0.032249438257217405, 0.09139866548538206, 0.43561408346652986, 0.043257787346839896, 0.17468836369514468, 0.07880159015536309, 0.00907296747133255, 0.07315988954544067, 0.06871455141067506, 0.025174335594177227, 0.17398620621085165, 0.07064890812635422, 0.06785411569595334, 0.10045868656158463, 0.16026466393470762, 0.17168573799133302, 0.028873375825881953, 0.006912800474166869, 0.35708247903823853, 0.09517467196941376, 0.049463270107507715, 0.025106812982559235, 0.009094047565460173, 0.1276710163640976, 0.10574303764343262, 0.05505080215930939, 0.09715421029090882, 0.07458857765674591, 0.040559654688835156, 0.21985281991958616, 0.3602617546796799, 0.05291413292182732, 0.14433043413162228, 0.010268114123344413, 0.15800841645240782, 0.0028889750671386993, 0.070121418466568, 0.3550994967269896, 0.18610251885473728, 0.030756161096096052, 0.027896091461181646, 0.009946999814510346, 0.03574354574084282, 0.014627496324777597, 0.2579204110240937, 0.20972693468093878]\n"
     ]
    }
   ],
   "source": [
    "print(perrA)"
   ]
  },
  {
   "cell_type": "code",
   "execution_count": 6,
   "metadata": {},
   "outputs": [
    {
     "data": {
      "text/plain": [
       "615"
      ]
     },
     "execution_count": 6,
     "metadata": {},
     "output_type": "execute_result"
    }
   ],
   "source": [
    "perrAll = []\n",
    "for i in range(len(X_test)):\n",
    "    for j in range(numB):\n",
    "        perrAll.append(y_test.iloc[i] - Y_preds[j][i])\n",
    "        \n",
    "len(perrAll)"
   ]
  },
  {
   "cell_type": "markdown",
   "metadata": {},
   "source": [
    "TODO: Divide each residual by the pstd"
   ]
  },
  {
   "cell_type": "code",
   "execution_count": 7,
   "metadata": {},
   "outputs": [
    {
     "data": {
      "image/png": "[encoded data removed]",
      "text/plain": [
       "<Figure size 432x288 with 1 Axes>"
      ]
     },
     "metadata": {
      "needs_background": "light"
     },
     "output_type": "display_data"
    },
    {
     "data": {
      "text/plain": [
       "<Figure size 432x288 with 0 Axes>"
      ]
     },
     "metadata": {},
     "output_type": "display_data"
    }
   ],
   "source": [
    "import scipy.stats\n",
    "\n",
    "plt.figure()\n",
    "plt.hist(pdist, density=True, bins=50)\n",
    "xmin, xmax = plt.xlim()\n",
    "xn = np.linspace(xmin, xmax, 100)\n",
    "mean = 0  # Normal distribution\n",
    "std = 1  \n",
    "yn = scipy.stats.norm.pdf(xn,mean,std)\n",
    "plt.plot(xn, yn)\n",
    "\n",
    "plt.ylabel = 'Error distribution vs Normal distribution'\n",
    "plt.xlabel = 'residual/std at the point'\n",
    "fignm = 'ErrNormVsNormBoot' + str(numB) + '.png'\n",
    "plt.show()\n",
    "plt.savefig(fignm)"
   ]
  },
  {
   "cell_type": "code",
   "execution_count": 8,
   "metadata": {},
   "outputs": [
    {
     "data": {
      "image/png": "[encoded data removed]",
      "text/plain": [
       "<Figure size 432x288 with 1 Axes>"
      ]
     },
     "metadata": {
      "needs_background": "light"
     },
     "output_type": "display_data"
    },
    {
     "data": {
      "text/plain": [
       "<Figure size 432x288 with 0 Axes>"
      ]
     },
     "metadata": {},
     "output_type": "display_data"
    }
   ],
   "source": [
    "# Sorting pstd and perrA as parallel lists\n",
    "pstdS, perrAS = zip(*sorted(zip(pstd, perrA)))\n",
    "# Generated congregated points\n",
    "numG = 10  # need to factor of len(X_test), size of point groups\n",
    "pstdG = []\n",
    "perrRMSE = []\n",
    "for i in range(int(len(X_test)/numG)):\n",
    "    tmpStd = []\n",
    "    tmpErrA = []\n",
    "    for idx in range(i*numG, i*numG+numG):\n",
    "        tmpStd.append(pstdS[idx])\n",
    "        tmpErrA.append(perrAS[idx])\n",
    "    pstdG.append(np.mean(tmpStd))\n",
    "    perrRMSE.append(np.sqrt(np.sum(np.square(tmpErrA-np.mean(tmpErrA)))))\n",
    "\n",
    "plt.figure()\n",
    "plt.plot(pstdG, perrRMSE, 'ro')\n",
    "xmin, xmax = plt.xlim()\n",
    "xn = np.linspace(xmin, xmax, 100)\n",
    "plt.plot(xn, xn)\n",
    "plt.xlabel = 'std between models'\n",
    "plt.ylabel = 'Abs residual'\n",
    "plt.show()\n",
    "plt.savefig('AbsResVStd'+str(numB)+'.png')"
   ]
  },
  {
   "cell_type": "code",
   "execution_count": null,
   "metadata": {},
   "outputs": [],
   "source": []
  },
  {
   "cell_type": "code",
   "execution_count": null,
   "metadata": {},
   "outputs": [],
   "source": []
  },
  {
   "cell_type": "code",
   "execution_count": null,
   "metadata": {},
   "outputs": [],
   "source": []
  }
 ],
 "metadata": {
  "kernelspec": {
   "display_name": "Python 3",
   "language": "python",
   "name": "python3"
  },
  "language_info": {
   "codemirror_mode": {
    "name": "ipython",
    "version": 3
   },
   "file_extension": ".py",
   "mimetype": "text/x-python",
   "name": "python",
   "nbconvert_exporter": "python",
   "pygments_lexer": "ipython3",
   "version": "3.6.9"
  }
 },
 "nbformat": 4,
 "nbformat_minor": 2
}
